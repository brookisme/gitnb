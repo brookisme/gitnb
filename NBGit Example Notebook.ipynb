{
 "cells": [
  {
   "cell_type": "markdown",
   "metadata": {},
   "source": [
    "## This is an example notebook \n",
    "\n",
    "The main purpose of this notebook is to have something to convert with nb_git.  There is nothing interesting to see here. In order to make this point perfectly clear, I will start with some difficult math..."
   ]
  },
  {
   "cell_type": "code",
   "execution_count": 1,
   "metadata": {},
   "outputs": [
    {
     "data": {
      "text/plain": [
       "2"
      ]
     },
     "execution_count": 1,
     "metadata": {},
     "output_type": "execute_result"
    }
   ],
   "source": [
    "1+1"
   ]
  },
  {
   "cell_type": "markdown",
   "metadata": {},
   "source": [
    "-----------------------\n",
    "_some more code blocks..._"
   ]
  },
  {
   "cell_type": "code",
   "execution_count": 6,
   "metadata": {
    "collapsed": true
   },
   "outputs": [],
   "source": [
    "import numpy as np"
   ]
  },
  {
   "cell_type": "code",
   "execution_count": 15,
   "metadata": {},
   "outputs": [],
   "source": [
    "eps=1e-10"
   ]
  },
  {
   "cell_type": "code",
   "execution_count": 16,
   "metadata": {
    "collapsed": true
   },
   "outputs": [],
   "source": [
    "def precision(v,p):\n",
    "    v=np.array(v)\n",
    "    p=np.array(p)\n",
    "    tpa=[pred*int(eq) for (pred,eq) in zip(p,np.equal(v,p))]\n",
    "    fpa=[pred*int(not eq) for (pred,eq) in zip(p,np.equal(v,p))]\n",
    "    tp=sum(tpa)\n",
    "    fp=sum(fpa)\n",
    "    return tp/(fp+tp+eps)"
   ]
  },
  {
   "cell_type": "code",
   "execution_count": 17,
   "metadata": {
    "collapsed": true
   },
   "outputs": [],
   "source": [
    "def recall(v,p):\n",
    "    v=np.array(v)\n",
    "    p=np.array(p)\n",
    "    tpa=[pred*int(eq) for (pred,eq) in zip(p,np.equal(v,p))]\n",
    "    fna=[(1-pred)*int(not eq) for (pred,eq) in zip(p,np.equal(v,p))]\n",
    "    tp=sum(tpa)\n",
    "    fn=sum(fna)\n",
    "    return tp/(fn+tp+eps)"
   ]
  },
  {
   "cell_type": "code",
   "execution_count": 18,
   "metadata": {
    "collapsed": true
   },
   "outputs": [],
   "source": [
    "def f2(a,b):\n",
    "    pc=precision(a,b)\n",
    "    rc=recall(a,b)\n",
    "    return 5 * pc * rc / ((4*pc) + rc + eps)"
   ]
  },
  {
   "cell_type": "code",
   "execution_count": 19,
   "metadata": {},
   "outputs": [
    {
     "data": {
      "text/plain": [
       "0.52631578944321322"
      ]
     },
     "execution_count": 19,
     "metadata": {},
     "output_type": "execute_result"
    }
   ],
   "source": [
    "a=[1,1,0,1,1]\n",
    "b=[1,1,1,0,0]\n",
    "f2(a,b)"
   ]
  },
  {
   "cell_type": "markdown",
   "metadata": {},
   "source": [
    "## Here is a Raw NB Convert block"
   ]
  },
  {
   "cell_type": "raw",
   "metadata": {},
   "source": [
    "nb_git-repo|master $ nb_git --help\n",
    "usage: nb_git [-h] {install,configure,nblist,convert} ...\n",
    "\n",
    "NBGIT: TRACKING FOR PYTHON NOTEBOOKS\n",
    "\n",
    "positional arguments:\n",
    "  {install,configure,nblist,convert}\n",
    "    install             installs nb_git into local project (writes to\n",
    "                        .git/hooks/pre-commit\n",
    "    configure           creates local configuration file (./nb_git_config.py)\n",
    "    nblist              list all noteboks (that are not in EXCLUDE_DIRS\n",
    "    convert             convert .ipynb files to .nbpy.py files\n",
    "\n",
    "optional arguments:\n",
    "  -h, --help            show this help message and exit"
   ]
  },
  {
   "cell_type": "code",
   "execution_count": 20,
   "metadata": {},
   "outputs": [
    {
     "data": {
      "text/plain": [
       "4"
      ]
     },
     "execution_count": 20,
     "metadata": {},
     "output_type": "execute_result"
    }
   ],
   "source": [
    "2+2"
   ]
  },
  {
   "cell_type": "code",
   "execution_count": null,
   "metadata": {
    "collapsed": true
   },
   "outputs": [],
   "source": []
  }
 ],
 "metadata": {
  "kernelspec": {
   "display_name": "Python 2",
   "language": "python",
   "name": "python2"
  },
  "language_info": {
   "codemirror_mode": {
    "name": "ipython",
    "version": 2
   },
   "file_extension": ".py",
   "mimetype": "text/x-python",
   "name": "python",
   "nbconvert_exporter": "python",
   "pygments_lexer": "ipython2",
   "version": "2.7.13"
  }
 },
 "nbformat": 4,
 "nbformat_minor": 2
}
